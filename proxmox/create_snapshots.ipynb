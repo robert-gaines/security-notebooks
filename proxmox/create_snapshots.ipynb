{
 "cells": [
  {
   "cell_type": "code",
   "execution_count": null,
   "id": "5620382e-977c-464e-8228-f22414be2456",
   "metadata": {},
   "outputs": [],
   "source": [
    "from proxmox_methods import ProxmoxMethods\n",
    "import requests\n",
    "import logging\n",
    "import urllib3\n",
    "import sys\n",
    "import os\n",
    "sys.path.append(os.path.abspath('../vault'))\n",
    "from vault_methods import VaultMethods\n",
    "\n",
    "urllib3.disable_warnings(urllib3.exceptions.InsecureRequestWarning)\n",
    "\n",
    "logging.basicConfig(format='%(asctime)s %(message)s',\n",
    "                    datefmt='%m/%d/%Y %I:%M:%S %p',\n",
    "                    level=logging.INFO)\n",
    "\n",
    "if __name__ == '__main__':\n",
    "    vault_session = VaultMethods()\n",
    "    vault_session.authenticate()\n",
    "    logging.info(\"Retrieving Proxmox authentication data\")\n",
    "    auth_data = vault_session.retrieve_proxmox_secrets()\n",
    "    if auth_data:\n",
    "        logging.info(\"Retrieved authentication data\")\n",
    "        fqdn = input(\"Enter the ProxmoxVE FQDN/IP-> \")\n",
    "        session = ProxmoxMethods(fqdn,\n",
    "                                 auth_data['identity'],\n",
    "                                 auth_data['realm'],\n",
    "                                 auth_data['role'],\n",
    "                                 auth_data['token'])\n",
    "        session._get_nodes()\n",
    "        session._get_hosts()\n",
    "        session._create_snapshots()"
   ]
  },
  {
   "cell_type": "code",
   "execution_count": null,
   "id": "a794246d-6bd7-4621-a268-7576a691bfcb",
   "metadata": {},
   "outputs": [],
   "source": []
  }
 ],
 "metadata": {
  "kernelspec": {
   "display_name": "Python 3 (ipykernel)",
   "language": "python",
   "name": "python3"
  },
  "language_info": {
   "codemirror_mode": {
    "name": "ipython",
    "version": 3
   },
   "file_extension": ".py",
   "mimetype": "text/x-python",
   "name": "python",
   "nbconvert_exporter": "python",
   "pygments_lexer": "ipython3",
   "version": "3.12.6"
  }
 },
 "nbformat": 4,
 "nbformat_minor": 5
}
