{
 "cells": [
  {
   "cell_type": "code",
   "execution_count": null,
   "id": "e855654c-a704-4cfc-b656-3e6445968ba0",
   "metadata": {},
   "outputs": [],
   "source": [
    "import requests\n",
    "import logging\n",
    "import urllib3\n",
    "import sys\n",
    "import os\n",
    "sys.path.append(os.path.abspath('../vault'))\n",
    "from vault_methods import VaultMethods\n",
    "\n",
    "urllib3.disable_warnings(urllib3.exceptions.InsecureRequestWarning)\n",
    "\n",
    "logging.basicConfig(format='%(asctime)s %(message)s',\n",
    "                    datefmt='%m/%d/%Y %I:%M:%S %p',\n",
    "                    level=logging.INFO)\n",
    "\n",
    "if __name__ == '__main__':\n",
    "    vault_session = VaultMethods()\n",
    "    vault_session.authenticate()\n",
    "    misp_token = vault_session.retrieve_misp_secret()\n",
    "    logging.info(\"Retrieving token\")\n",
    "    if misp_token:\n",
    "        logging.info(\"Retrieved MISP token\")\n",
    "    else:\n",
    "        logging.error(\"Failed to retrieve MISP token\")"
   ]
  },
  {
   "cell_type": "code",
   "execution_count": null,
   "id": "8ec59f92-88cf-4190-a4d6-6b9b59b2d1f9",
   "metadata": {},
   "outputs": [],
   "source": []
  }
 ],
 "metadata": {
  "kernelspec": {
   "display_name": "Python 3 (ipykernel)",
   "language": "python",
   "name": "python3"
  },
  "language_info": {
   "codemirror_mode": {
    "name": "ipython",
    "version": 3
   },
   "file_extension": ".py",
   "mimetype": "text/x-python",
   "name": "python",
   "nbconvert_exporter": "python",
   "pygments_lexer": "ipython3",
   "version": "3.12.6"
  }
 },
 "nbformat": 4,
 "nbformat_minor": 5
}
