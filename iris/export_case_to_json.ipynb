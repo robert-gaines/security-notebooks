{
 "cells": [
  {
   "cell_type": "code",
   "execution_count": null,
   "id": "acdbca1d-dfd3-48c3-9891-ce4afa671bcc",
   "metadata": {},
   "outputs": [],
   "source": [
    "from datetime import datetime, timedelta, timezone\n",
    "from iris_methods import IrisMethods\n",
    "import requests\n",
    "import logging\n",
    "import urllib3\n",
    "import sys\n",
    "import os\n",
    "sys.path.append(os.path.abspath('../vault'))\n",
    "from vault_methods import VaultMethods\n",
    "\n",
    "urllib3.disable_warnings(urllib3.exceptions.InsecureRequestWarning)\n",
    "\n",
    "logging.basicConfig(format='%(asctime)s %(message)s',\n",
    "                    datefmt='%m/%d/%Y %I:%M:%S %p',\n",
    "                    level=logging.INFO)\n",
    "\n",
    "if __name__ == '__main__':\n",
    "    vault_session = VaultMethods()\n",
    "    vault_session.authenticate()\n",
    "    iris_token = vault_session.retrieve_iris_secret()\n",
    "    logging.info(\"Retrieving token\")\n",
    "    if iris_token:\n",
    "        fqdn = input(\"Enter the IRIS FQDN -> \")\n",
    "        session = IrisMethods(fqdn, iris_token)\n",
    "        session.retrieve_open_cases()\n",
    "        case_id = input(\"Enter the case ID-> \")\n",
    "        session.export_case_to_json(case_id)\n",
    "    else:\n",
    "        logging.error(\"Failed to retrieve the DFIR IRIS token\")"
   ]
  },
  {
   "cell_type": "code",
   "execution_count": null,
   "id": "65b2e53e-0fec-472c-b069-dbe0d1869708",
   "metadata": {},
   "outputs": [],
   "source": []
  }
 ],
 "metadata": {
  "kernelspec": {
   "display_name": "Python 3 (ipykernel)",
   "language": "python",
   "name": "python3"
  },
  "language_info": {
   "codemirror_mode": {
    "name": "ipython",
    "version": 3
   },
   "file_extension": ".py",
   "mimetype": "text/x-python",
   "name": "python",
   "nbconvert_exporter": "python",
   "pygments_lexer": "ipython3",
   "version": "3.12.6"
  }
 },
 "nbformat": 4,
 "nbformat_minor": 5
}
