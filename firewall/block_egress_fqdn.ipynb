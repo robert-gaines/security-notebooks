{
 "cells": [
  {
   "cell_type": "code",
   "execution_count": null,
   "id": "b35a879c-aaa1-4336-a4d4-5c4958839b7c",
   "metadata": {},
   "outputs": [],
   "source": [
    "from fortigate_methods import FortigateMethods\n",
    "import requests\n",
    "import logging\n",
    "import urllib3\n",
    "import sys\n",
    "import os\n",
    "sys.path.append(os.path.abspath('../vault'))\n",
    "from vault_methods import VaultMethods\n",
    "\n",
    "urllib3.disable_warnings(urllib3.exceptions.InsecureRequestWarning)\n",
    "\n",
    "logging.basicConfig(format='%(asctime)s %(message)s',\n",
    "                    datefmt='%m/%d/%Y %I:%M:%S %p',\n",
    "                    level=logging.INFO)\n",
    "\n",
    "if __name__ == '__main__':\n",
    "    vault_session = VaultMethods()\n",
    "    vault_session.authenticate()\n",
    "    firewall_token = vault_session.retrieve_firewall_secret()\n",
    "    logging.info(\"Retrieving token\")\n",
    "    if firewall_token:\n",
    "        logging.info(\"Retrieved firewall token\")\n",
    "        addr = input(\"Firewall IP/FQDN-> \")\n",
    "        port = int(input(\"Firewall interface port-> \"))\n",
    "        firewall_session = FortigateMethods(addr, port, firewall_token)\n",
    "        valid_token = firewall_session.check_token_validity()\n",
    "        if valid_token:\n",
    "            sdwan_zones = firewall_session.list_sdwan_zones()\n",
    "            zones = firewall_session.list_zones()\n",
    "            interfaces = firewall_session.list_interfaces()\n",
    "            srcintf = \"\"\n",
    "            dstinft = \"\"\n",
    "            addr = \"\"\n",
    "            for zone in range(0,len(zones)):\n",
    "                logging.info(\"{0} -> {1}\".format(zone, zones[zone]))\n",
    "            srcintf = int(input(\"Enter the source zone index-> \"))\n",
    "            srcintf = zones[srcintf]\n",
    "            logging.info(\"Source zone: {0}\".format(srcintf))\n",
    "            for zone in range(0,len(sdwan_zones)):\n",
    "                logging.info(\"{0} -> {1}\".format(zone, sdwan_zones[zone]))\n",
    "            dstintf = int(input(\"Enter the destination zone index-> \"))\n",
    "            dstintf = sdwan_zones[dstintf]\n",
    "            logging.info(\"Destination zone: {0}\".format(dstintf))\n",
    "            fqdn = str(input(\"Enter the FQDN to block-> \"))\n",
    "            obj_name = firewall_session.create_fqdn_object(fqdn)\n",
    "            if obj_name:\n",
    "                firewall_session.create_policy(srcintf, dstintf, obj_name)\n",
    "            \n"
   ]
  },
  {
   "cell_type": "code",
   "execution_count": null,
   "id": "ebd85184-e0dd-4ab6-9bb6-f5579dcddf1f",
   "metadata": {},
   "outputs": [],
   "source": []
  }
 ],
 "metadata": {
  "kernelspec": {
   "display_name": "Python 3 (ipykernel)",
   "language": "python",
   "name": "python3"
  },
  "language_info": {
   "codemirror_mode": {
    "name": "ipython",
    "version": 3
   },
   "file_extension": ".py",
   "mimetype": "text/x-python",
   "name": "python",
   "nbconvert_exporter": "python",
   "pygments_lexer": "ipython3",
   "version": "3.12.6"
  }
 },
 "nbformat": 4,
 "nbformat_minor": 5
}
