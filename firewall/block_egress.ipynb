{
 "cells": [
  {
   "cell_type": "code",
   "execution_count": 1,
   "id": "b35a879c-aaa1-4336-a4d4-5c4958839b7c",
   "metadata": {},
   "outputs": [
    {
     "name": "stdin",
     "output_type": "stream",
     "text": [
      "Enter the Vault FQDN->  vault.internal.subterfuge.biz\n",
      "Enter the Vault username->  robert.gaines\n",
      "Enter the Vault password->  ········\n"
     ]
    },
    {
     "name": "stderr",
     "output_type": "stream",
     "text": [
      "07/22/2025 01:19:04 AM Retrieving token\n",
      "07/22/2025 01:19:04 AM Retrieved firewall token\n"
     ]
    },
    {
     "name": "stdin",
     "output_type": "stream",
     "text": [
      "Firewall IP/FQDN->  10.128.10.1\n",
      "Firewall interface port->  8443\n"
     ]
    },
    {
     "name": "stderr",
     "output_type": "stream",
     "text": [
      "07/22/2025 01:19:10 AM Checking the firewall API token's validity\n",
      "07/22/2025 01:19:10 AM Valid token\n",
      "07/22/2025 01:19:10 AM Appliance status: success\n",
      "07/22/2025 01:19:10 AM Established contact with: FG50GSTK24003234\n",
      "07/22/2025 01:19:10 AM Identified 1 SDWAN zones\n",
      "07/22/2025 01:19:10 AM Identified 9 zones\n",
      "07/22/2025 01:19:10 AM Identified 34 interfaces\n",
      "07/22/2025 01:19:10 AM 0 -> administration\n",
      "07/22/2025 01:19:10 AM 1 -> deception\n",
      "07/22/2025 01:19:10 AM 2 -> management\n",
      "07/22/2025 01:19:10 AM 3 -> servers\n",
      "07/22/2025 01:19:10 AM 4 -> vpn\n",
      "07/22/2025 01:19:10 AM 5 -> webservers\n",
      "07/22/2025 01:19:10 AM 6 -> wireless\n",
      "07/22/2025 01:19:10 AM 7 -> work\n",
      "07/22/2025 01:19:10 AM 8 -> workstations\n"
     ]
    },
    {
     "name": "stdin",
     "output_type": "stream",
     "text": [
      "Enter the source zone index->  8\n"
     ]
    },
    {
     "name": "stderr",
     "output_type": "stream",
     "text": [
      "07/22/2025 01:19:12 AM Source zone: workstations\n",
      "07/22/2025 01:19:12 AM 0 -> virtual-wan-link\n"
     ]
    },
    {
     "name": "stdin",
     "output_type": "stream",
     "text": [
      "Enter the destination zone index->  0\n"
     ]
    },
    {
     "name": "stderr",
     "output_type": "stream",
     "text": [
      "07/22/2025 01:19:14 AM Destination zone: virtual-wan-link\n"
     ]
    },
    {
     "name": "stdin",
     "output_type": "stream",
     "text": [
      "Enter the address to block->  3.3.3.3\n"
     ]
    },
    {
     "name": "stderr",
     "output_type": "stream",
     "text": [
      "07/22/2025 01:19:19 AM Attempting to create: Automation_[BLOCK]_3.3.3.3\n",
      "07/22/2025 01:19:19 AM b'{\\n  \"http_method\":\"POST\",\\n  \"revision\":\"fa9aabd4e42f5fc92fc8c8da5d8c65d3\",\\n  \"revision_changed\":true,\\n  \"old_revision\":\"64764d5e931a9f0cc2778cfa58f71ea7\",\\n  \"mkey\":\"Automation_[BLOCK]_3.3.3.3\",\\n  \"status\":\"success\",\\n  \"http_status\":200,\\n  \"vdom\":\"root\",\\n  \"path\":\"firewall\",\\n  \"name\":\"address\",\\n  \"serial\":\"FG50GSTK24003234\",\\n  \"version\":\"v7.0.17\",\\n  \"build\":7608\\n}'\n",
      "07/22/2025 01:19:19 AM 200\n",
      "07/22/2025 01:19:19 AM Sucessfully created the address object: Automation_[BLOCK]_3.3.3.3 \n",
      "07/22/2025 01:19:19 AM Sucessfully created a deny policy with the following name: Deny - Automation_[BLOCK]_3.3.3.3:Tue_Jul_22_01_19_19_2025 \n"
     ]
    }
   ],
   "source": [
    "from fortigate_methods import FortigateMethods\n",
    "import requests\n",
    "import logging\n",
    "import urllib3\n",
    "import sys\n",
    "import os\n",
    "sys.path.append(os.path.abspath('../vault'))\n",
    "from vault_methods import VaultMethods\n",
    "\n",
    "urllib3.disable_warnings(urllib3.exceptions.InsecureRequestWarning)\n",
    "\n",
    "logging.basicConfig(format='%(asctime)s %(message)s',\n",
    "                    datefmt='%m/%d/%Y %I:%M:%S %p',\n",
    "                    level=logging.INFO)\n",
    "\n",
    "if __name__ == '__main__':\n",
    "    vault_session = VaultMethods()\n",
    "    vault_session.authenticate()\n",
    "    firewall_token = vault_session.retrieve_firewall_secret()\n",
    "    logging.info(\"Retrieving token\")\n",
    "    if firewall_token:\n",
    "        logging.info(\"Retrieved firewall token\")\n",
    "        addr = input(\"Firewall IP/FQDN-> \")\n",
    "        port = int(input(\"Firewall interface port-> \"))\n",
    "        firewall_session = FortigateMethods(addr, port, firewall_token)\n",
    "        valid_token = firewall_session.check_token_validity()\n",
    "        if valid_token:\n",
    "            sdwan_zones = firewall_session.list_sdwan_zones()\n",
    "            zones = firewall_session.list_zones()\n",
    "            interfaces = firewall_session.list_interfaces()\n",
    "            srcintf = \"\"\n",
    "            dstinft = \"\"\n",
    "            addr = \"\"\n",
    "            for zone in range(0,len(zones)):\n",
    "                logging.info(\"{0} -> {1}\".format(zone, zones[zone]))\n",
    "            srcintf = int(input(\"Enter the source zone index-> \"))\n",
    "            srcintf = zones[srcintf]\n",
    "            logging.info(\"Source zone: {0}\".format(srcintf))\n",
    "            for zone in range(0,len(sdwan_zones)):\n",
    "                logging.info(\"{0} -> {1}\".format(zone, sdwan_zones[zone]))\n",
    "            dstintf = int(input(\"Enter the destination zone index-> \"))\n",
    "            dstintf = sdwan_zones[dstintf]\n",
    "            logging.info(\"Destination zone: {0}\".format(dstintf))\n",
    "            addr = str(input(\"Enter the address to block-> \"))\n",
    "            obj_name = firewall_session.create_address_object(addr)\n",
    "            if obj_name:\n",
    "                firewall_session.create_policy(srcintf, dstintf, obj_name)\n",
    "            \n"
   ]
  },
  {
   "cell_type": "code",
   "execution_count": null,
   "id": "ebd85184-e0dd-4ab6-9bb6-f5579dcddf1f",
   "metadata": {},
   "outputs": [],
   "source": []
  }
 ],
 "metadata": {
  "kernelspec": {
   "display_name": "Python 3 (ipykernel)",
   "language": "python",
   "name": "python3"
  },
  "language_info": {
   "codemirror_mode": {
    "name": "ipython",
    "version": 3
   },
   "file_extension": ".py",
   "mimetype": "text/x-python",
   "name": "python",
   "nbconvert_exporter": "python",
   "pygments_lexer": "ipython3",
   "version": "3.12.6"
  }
 },
 "nbformat": 4,
 "nbformat_minor": 5
}
