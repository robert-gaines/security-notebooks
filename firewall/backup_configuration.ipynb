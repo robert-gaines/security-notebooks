{
 "cells": [
  {
   "cell_type": "code",
   "execution_count": null,
   "id": "87feeb71-6a44-4c77-88df-7525d1b86a9d",
   "metadata": {},
   "outputs": [],
   "source": [
    "### Backup the current firewall configuration"
   ]
  },
  {
   "cell_type": "code",
   "execution_count": null,
   "id": "abc71d9e-ebcc-4168-9730-5e843c8114e6",
   "metadata": {},
   "outputs": [],
   "source": [
    "from fortigate_methods import FortigateMethods\n",
    "import requests\n",
    "import logging\n",
    "import urllib3\n",
    "import sys\n",
    "import os\n",
    "sys.path.append(os.path.abspath('../vault'))\n",
    "from vault_methods import VaultMethods\n",
    "\n",
    "urllib3.disable_warnings(urllib3.exceptions.InsecureRequestWarning)\n",
    "\n",
    "logging.basicConfig(format='%(asctime)s %(message)s',\n",
    "                    datefmt='%m/%d/%Y %I:%M:%S %p',\n",
    "                    level=logging.INFO)\n",
    "\n",
    "if __name__ == '__main__':\n",
    "    vault_session = VaultMethods()\n",
    "    vault_session.authenticate()\n",
    "    firewall_token = vault_session.retrieve_firewall_secret()\n",
    "    logging.info(\"Retrieving token\")\n",
    "    if firewall_token:\n",
    "        logging.info(\"Retrieved firewall token\")\n",
    "        addr = input(\"Firewall IP/FQDN-> \")\n",
    "        port = int(input(\"Firewall interface port-> \"))\n",
    "        firewall_session = FortigateMethods(addr, port, firewall_token)\n",
    "        valid_token = firewall_session.check_token_validity()\n",
    "        if valid_token:\n",
    "            firewall_session.backup_configuration()\n",
    "    else:\n",
    "        logging.error(\"Failed to retrieve firewall token\")"
   ]
  },
  {
   "cell_type": "code",
   "execution_count": null,
   "id": "ba9a78e5-6028-44a9-9c6d-fd5febed4395",
   "metadata": {},
   "outputs": [],
   "source": []
  }
 ],
 "metadata": {
  "kernelspec": {
   "display_name": "Python 3 (ipykernel)",
   "language": "python",
   "name": "python3"
  },
  "language_info": {
   "codemirror_mode": {
    "name": "ipython",
    "version": 3
   },
   "file_extension": ".py",
   "mimetype": "text/x-python",
   "name": "python",
   "nbconvert_exporter": "python",
   "pygments_lexer": "ipython3",
   "version": "3.12.6"
  }
 },
 "nbformat": 4,
 "nbformat_minor": 5
}
