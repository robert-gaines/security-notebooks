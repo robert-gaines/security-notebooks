{
 "cells": [
  {
   "cell_type": "code",
   "execution_count": 3,
   "id": "f17de136-65dd-43b1-b1d5-e755a4b9622f",
   "metadata": {},
   "outputs": [
    {
     "name": "stdin",
     "output_type": "stream",
     "text": [
      "Enter the Vault FQDN->  vault.internal.subterfuge.biz\n",
      "Enter the Vault username->  robert.gaines\n",
      "Enter the Vault password->  ········\n"
     ]
    },
    {
     "name": "stderr",
     "output_type": "stream",
     "text": [
      "07/07/2025 10:49:14 PM Retrieved SIEM token\n"
     ]
    },
    {
     "name": "stdin",
     "output_type": "stream",
     "text": [
      "Enter the SIEM FQDN ->  siem.internal.subterfuge.biz\n"
     ]
    },
    {
     "name": "stderr",
     "output_type": "stream",
     "text": [
      "07/07/2025 10:49:30 PM {\"Type\":\"event\",\"Metadata\":{\"UID\":1,\"Username\":\"robert.gaines\",\"Created\":\"2025-07-07T20:00:01.449030011Z\",\"AlertID\":\"63895bae-c9d8-4738-9f25-88688bc46f8a\",\"AlertName\":\"Fortigate VPN Logon\",\"AlertActivation\":\"84f1ff96-65bd-447d-8a24-a0090e39a17d\",\"EventIndex\":0,\"TargetTag\":\"_alerts\",\"AlertLabels\":[\"High\",\"Fortigate\",\"kit/io.gravwell.syslog\"],\"Dispatcher\":{\"Type\":\"scheduledsearch\",\"ID\":\"1f1a3f28-649e-4735-8f13-0d50812dc351\",\"Name\":\"Fortigate VPN Logon\",\"SearchID\":\"43460738405\",\"Labels\":[\"Firewall\",\"VPN\",\"High\",\"kit/io.gravwell.syslog\"],\"EventCount\":1,\"EventsElided\":false},\"Consumers\":[{\"Type\":\"flow\",\"ID\":\"b4add7c8-60c2-46a7-8fdd-357de14c4d96\",\"Name\":\" Fortigate VPN Logon - Flow\",\"Labels\":[\"High\",\"Fortigate\",\"kit/io.gravwell.syslog\"]}],\"UserMetadata\":{}},\"Contents\":{\"action\":\"tunnel-up\",\"group\":\"N/A\",\"logdesc\":\"IPsec connection status changed\",\"remip\":\"172.56.203.77\",\"subtype\":\"vpn\",\"time\":\"12:58:07\",\"tunneltype\":\"ipsec\",\"user\":\"172.20.10.3\"}}\n",
      "\n"
     ]
    }
   ],
   "source": [
    "from datetime import datetime, timedelta, timezone\n",
    "import requests\n",
    "import logging\n",
    "import urllib3\n",
    "import sys\n",
    "import os\n",
    "sys.path.append(os.path.abspath('../vault'))\n",
    "from methods import VaultMethods\n",
    "\n",
    "urllib3.disable_warnings(urllib3.exceptions.InsecureRequestWarning)\n",
    "\n",
    "logging.basicConfig(format='%(asctime)s %(message)s',\n",
    "                    datefmt='%m/%d/%Y %I:%M:%S %p',\n",
    "                    level=logging.INFO)\n",
    "\n",
    "vault_session = VaultMethods()\n",
    "vault_session.authenticate()\n",
    "gravwell_token = vault_session.retrieve_gravwell_secret()\n",
    "\n",
    "if gravwell_token:\n",
    "    logging.info(\"Retrieved SIEM token\")\n",
    "else:\n",
    "    logging.error(\"Failed to retrieve SIEM token\")\n",
    "\n",
    "headers = {\n",
    "             \"Gravwell-Token\": gravwell_token, \n",
    "             \"Content-Type\": \"application/json\"\n",
    "          }\n",
    "\n",
    "def convert_datetime(datetime_str):\n",
    "    dt = datetime.fromisoformat(datetime_str)\n",
    "    return dt.strftime(\"%Y-%m-%dT%H:%M:%SZ\")\n",
    "\n",
    "def execute_direct_query(headers, siem: str, query: str) -> None:\n",
    "    timestamp = datetime.now(timezone.utc) - timedelta(minutes=600)\n",
    "    search_start = timestamp.isoformat()\n",
    "    search_start = convert_datetime(search_start)\n",
    "    search_conclude = datetime.now(timezone.utc).isoformat()\n",
    "    search_start = convert_datetime(search_start)\n",
    "    search_conclude = convert_datetime(search_conclude)\n",
    "    payload = {\"Background\": True,\n",
    "               \"Name\": \"Direct Query\",\n",
    "               \"NoHistory\": True,\n",
    "               \"Preview\": False,\n",
    "               \"Format\": \"text\",\n",
    "               \"SearchEnd\": search_conclude,\n",
    "               \"SearchStart\": search_start,\n",
    "               \"SearchString\": query}\n",
    "    try:\n",
    "        response = requests.post(headers=headers,\n",
    "                                 url=f\"https://{siem}/api/search/direct\",\n",
    "                                 json=payload,\n",
    "                                 verify=False)\n",
    "        response_content = response.content\n",
    "        response_content = response_content.decode('utf-8')\n",
    "        logging.info(response_content)\n",
    "    except Exception as e:\n",
    "        logging.exception(\"Error executing direct query: {0}\".format(e))\n",
    "\n",
    "siem = input(\"Enter the SIEM FQDN -> \")\n",
    "query = \"tag=_alerts\"\n",
    "execute_direct_query(headers, siem, query)"
   ]
  },
  {
   "cell_type": "code",
   "execution_count": null,
   "id": "0dad1f71-7481-46c4-8cfd-be3df75e0361",
   "metadata": {},
   "outputs": [],
   "source": []
  }
 ],
 "metadata": {
  "kernelspec": {
   "display_name": "Python 3 (ipykernel)",
   "language": "python",
   "name": "python3"
  },
  "language_info": {
   "codemirror_mode": {
    "name": "ipython",
    "version": 3
   },
   "file_extension": ".py",
   "mimetype": "text/x-python",
   "name": "python",
   "nbconvert_exporter": "python",
   "pygments_lexer": "ipython3",
   "version": "3.12.6"
  }
 },
 "nbformat": 4,
 "nbformat_minor": 5
}
