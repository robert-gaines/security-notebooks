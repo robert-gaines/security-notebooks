{
 "cells": [
  {
   "cell_type": "code",
   "execution_count": null,
   "id": "2a9a3639-56ff-412a-9c25-d8b35ad4a9f7",
   "metadata": {},
   "outputs": [],
   "source": [
    "from elastic_methods import ElasticMethods\n",
    "import requests\n",
    "import logging\n",
    "import urllib3\n",
    "import sys\n",
    "import os\n",
    "sys.path.append(os.path.abspath('../vault'))\n",
    "from vault_methods import VaultMethods\n",
    "\n",
    "urllib3.disable_warnings(urllib3.exceptions.InsecureRequestWarning)\n",
    "\n",
    "logging.basicConfig(format='%(asctime)s %(message)s',\n",
    "                    datefmt='%m/%d/%Y %I:%M:%S %p',\n",
    "                    level=logging.INFO)\n",
    "\n",
    "if __name__ == '__main__':\n",
    "    vault_session = VaultMethods()\n",
    "    vault_session.authenticate()\n",
    "    elastic_secret = vault_session.retrieve_elastic_secret()\n",
    "    if elastic_secret:\n",
    "        fqdn = input(\"Enter the Elastic Security FQDN-> \")\n",
    "        session = ElasticMethods(fqdn, elastic_secret)\n",
    "        ids = session._get_open_alerts()\n",
    "        session._close_open_alerts(ids)"
   ]
  },
  {
   "cell_type": "code",
   "execution_count": null,
   "id": "3fb72840-deac-4114-985e-c52e8267cf21",
   "metadata": {},
   "outputs": [],
   "source": []
  }
 ],
 "metadata": {
  "kernelspec": {
   "display_name": "Python 3 (ipykernel)",
   "language": "python",
   "name": "python3"
  },
  "language_info": {
   "codemirror_mode": {
    "name": "ipython",
    "version": 3
   },
   "file_extension": ".py",
   "mimetype": "text/x-python",
   "name": "python",
   "nbconvert_exporter": "python",
   "pygments_lexer": "ipython3",
   "version": "3.12.6"
  }
 },
 "nbformat": 4,
 "nbformat_minor": 5
}
