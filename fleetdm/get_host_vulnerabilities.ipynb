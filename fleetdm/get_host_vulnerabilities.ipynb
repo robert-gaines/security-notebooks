{
 "cells": [
  {
   "cell_type": "code",
   "execution_count": null,
   "id": "b4b8a945-a021-49d9-962e-595000119fb1",
   "metadata": {},
   "outputs": [
    {
     "name": "stdin",
     "output_type": "stream",
     "text": [
      "Enter the Vault FQDN->  vault.internal.subterfuge.biz\n",
      "Enter the Vault username->  robert.gaines\n",
      "Enter the Vault password->  ········\n"
     ]
    },
    {
     "name": "stderr",
     "output_type": "stream",
     "text": [
      "07/22/2025 08:41:46 PM Retrieving FleetDM token\n",
      "07/22/2025 08:41:46 PM Retrieving NIST NVD token\n"
     ]
    },
    {
     "name": "stdin",
     "output_type": "stream",
     "text": [
      "Enter the FleetDM FQDN->  fleetdm.internal.subterfuge.biz\n",
      "Enter the FleetDM API Port->  8080\n"
     ]
    },
    {
     "name": "stderr",
     "output_type": "stream",
     "text": [
      "07/22/2025 08:41:57 PM Processing FleetDM Host: res-phy-prd-rpi-1.identity.subterfuge.biz\n",
      "07/22/2025 08:41:57 PM Sending query for CVE: CVE-2023-50782\n",
      "07/22/2025 08:42:03 PM Sending query for CVE: CVE-2024-26130\n",
      "07/22/2025 08:42:08 PM Sending query for CVE: CVE-2025-22088\n",
      "07/22/2025 08:42:13 PM Sending query for CVE: CVE-2025-37798\n",
      "07/22/2025 08:42:13 PM Sending query for CVE: CVE-2025-37890\n",
      "07/22/2025 08:42:13 PM Sending query for CVE: CVE-2025-37932\n",
      "07/22/2025 08:42:14 PM Sending query for CVE: CVE-2025-37997\n",
      "07/22/2025 08:42:14 PM Sending query for CVE: CVE-2025-38000\n",
      "07/22/2025 08:42:14 PM Sending query for CVE: CVE-2025-38001\n",
      "07/22/2025 08:42:14 PM Processing FleetDM Host: res-phy-prd-rpi-5.identity.subterfuge.biz\n",
      "07/22/2025 08:42:14 PM Sending query for CVE: CVE-2023-50782\n",
      "07/22/2025 08:42:19 PM Sending query for CVE: CVE-2024-26130\n",
      "07/22/2025 08:42:24 PM Sending query for CVE: CVE-2024-50157\n",
      "07/22/2025 08:42:30 PM Sending query for CVE: CVE-2024-53124\n",
      "07/22/2025 08:42:35 PM Sending query for CVE: CVE-2024-57924\n",
      "07/22/2025 08:42:36 PM Sending query for CVE: CVE-2024-57948\n",
      "07/22/2025 08:42:36 PM Sending query for CVE: CVE-2024-57949\n",
      "07/22/2025 08:42:41 PM Sending query for CVE: CVE-2024-57951\n",
      "07/22/2025 08:42:46 PM Sending query for CVE: CVE-2024-57952\n",
      "07/22/2025 08:42:51 PM Sending query for CVE: CVE-2025-21665\n",
      "07/22/2025 08:42:57 PM Sending query for CVE: CVE-2025-21666\n",
      "07/22/2025 08:43:02 PM Sending query for CVE: CVE-2025-21667\n",
      "07/22/2025 08:43:07 PM Sending query for CVE: CVE-2025-21668\n",
      "07/22/2025 08:43:08 PM Sending query for CVE: CVE-2025-21669\n",
      "07/22/2025 08:43:13 PM Sending query for CVE: CVE-2025-21670\n",
      "07/22/2025 08:43:18 PM Sending query for CVE: CVE-2025-21672\n",
      "07/22/2025 08:43:23 PM Sending query for CVE: CVE-2025-21673\n"
     ]
    }
   ],
   "source": [
    "from fleetdm_methods import FleetDMMethods\n",
    "import requests\n",
    "import logging\n",
    "import urllib3\n",
    "import sys\n",
    "import os\n",
    "sys.path.append(os.path.abspath('../vault'))\n",
    "from vault_methods import VaultMethods\n",
    "\n",
    "urllib3.disable_warnings(urllib3.exceptions.InsecureRequestWarning)\n",
    "\n",
    "logging.basicConfig(format='%(asctime)s %(message)s',\n",
    "                    datefmt='%m/%d/%Y %I:%M:%S %p',\n",
    "                    level=logging.INFO)\n",
    "\n",
    "if __name__ == '__main__':\n",
    "    vault_session = VaultMethods()\n",
    "    vault_session.authenticate()\n",
    "    logging.info(\"Retrieving FleetDM token\")\n",
    "    fleetdm_token = vault_session.retrieve_fleetdm_secret()\n",
    "    logging.info(\"Retrieving NIST NVD token\")\n",
    "    nist_nvd_token = vault_session.retrieve_nist_nvd_secret()\n",
    "    if fleetdm_token and nist_nvd_token:\n",
    "        fqdn = input(\"Enter the FleetDM FQDN-> \")\n",
    "        port = int(input(\"Enter the FleetDM API Port-> \"))\n",
    "        session = FleetDMMethods(fqdn, port, fleetdm_token)\n",
    "        session._get_host_vulnerabilities(nist_nvd_token)"
   ]
  },
  {
   "cell_type": "code",
   "execution_count": null,
   "id": "79acf3bf-0a5d-47a8-88cf-ffa6bd9c98eb",
   "metadata": {},
   "outputs": [],
   "source": []
  }
 ],
 "metadata": {
  "kernelspec": {
   "display_name": "Python 3 (ipykernel)",
   "language": "python",
   "name": "python3"
  },
  "language_info": {
   "codemirror_mode": {
    "name": "ipython",
    "version": 3
   },
   "file_extension": ".py",
   "mimetype": "text/x-python",
   "name": "python",
   "nbconvert_exporter": "python",
   "pygments_lexer": "ipython3",
   "version": "3.12.6"
  }
 },
 "nbformat": 4,
 "nbformat_minor": 5
}
