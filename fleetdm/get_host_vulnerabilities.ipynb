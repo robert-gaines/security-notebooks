{
 "cells": [
  {
   "cell_type": "code",
   "execution_count": null,
   "id": "b4b8a945-a021-49d9-962e-595000119fb1",
   "metadata": {},
   "outputs": [],
   "source": [
    "from fleetdm_methods import FleetDMMethods\n",
    "import requests\n",
    "import logging\n",
    "import urllib3\n",
    "import sys\n",
    "import os\n",
    "sys.path.append(os.path.abspath('../vault'))\n",
    "from vault_methods import VaultMethods\n",
    "\n",
    "urllib3.disable_warnings(urllib3.exceptions.InsecureRequestWarning)\n",
    "\n",
    "logging.basicConfig(format='%(asctime)s %(message)s',\n",
    "                    datefmt='%m/%d/%Y %I:%M:%S %p',\n",
    "                    level=logging.INFO)\n",
    "\n",
    "if __name__ == '__main__':\n",
    "    vault_session = VaultMethods()\n",
    "    vault_session.authenticate()\n",
    "    logging.info(\"Retrieving FleetDM token\")\n",
    "    fleetdm_token = vault_session.retrieve_fleetdm_secret()\n",
    "    logging.info(\"Retrieving NIST NVD token\")\n",
    "    nist_nvd_token = vault_session.retrieve_nist_nvd_secret()\n",
    "    if fleetdm_token and nist_nvd_token:\n",
    "        fqdn = input(\"Enter the FleetDM FQDN-> \")\n",
    "        port = int(input(\"Enter the FleetDM API Port-> \"))\n",
    "        session = FleetDMMethods(fqdn, port, fleetdm_token)\n",
    "        session._get_host_vulnerabilities(nist_nvd_token)"
   ]
  },
  {
   "cell_type": "code",
   "execution_count": null,
   "id": "79acf3bf-0a5d-47a8-88cf-ffa6bd9c98eb",
   "metadata": {},
   "outputs": [],
   "source": []
  }
 ],
 "metadata": {
  "kernelspec": {
   "display_name": "Python 3 (ipykernel)",
   "language": "python",
   "name": "python3"
  },
  "language_info": {
   "codemirror_mode": {
    "name": "ipython",
    "version": 3
   },
   "file_extension": ".py",
   "mimetype": "text/x-python",
   "name": "python",
   "nbconvert_exporter": "python",
   "pygments_lexer": "ipython3",
   "version": "3.12.6"
  }
 },
 "nbformat": 4,
 "nbformat_minor": 5
}
