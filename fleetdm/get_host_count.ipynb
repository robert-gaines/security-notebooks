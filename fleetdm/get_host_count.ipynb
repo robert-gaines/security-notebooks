{
 "cells": [
  {
   "cell_type": "code",
   "execution_count": null,
   "id": "14f0541a-d38e-48ad-9534-975815406950",
   "metadata": {},
   "outputs": [],
   "source": [
    "from fleetdm_methods import FleetDMMethods\n",
    "import requests\n",
    "import logging\n",
    "import urllib3\n",
    "import sys\n",
    "import os\n",
    "sys.path.append(os.path.abspath('../vault'))\n",
    "from vault_methods import VaultMethods\n",
    "\n",
    "urllib3.disable_warnings(urllib3.exceptions.InsecureRequestWarning)\n",
    "\n",
    "logging.basicConfig(format='%(asctime)s %(message)s',\n",
    "                    datefmt='%m/%d/%Y %I:%M:%S %p',\n",
    "                    level=logging.INFO)\n",
    "\n",
    "if __name__ == '__main__':\n",
    "    vault_session = VaultMethods()\n",
    "    vault_session.authenticate()\n",
    "    fleetdm_token = vault_session.retrieve_fleetdm_secret()\n",
    "    logging.info(\"Retrieving token\")\n",
    "    if fleetdm_token:\n",
    "        fqdn = input(\"Enter the FleetDM FQDN-> \")\n",
    "        port = int(input(\"Enter the FleetDM API Port-> \"))\n",
    "        session = FleetDMMethods(fqdn, port, fleetdm_token)\n",
    "        session._get_host_count()"
   ]
  },
  {
   "cell_type": "code",
   "execution_count": null,
   "id": "8795617d-850d-4f46-bb2f-e289efea763a",
   "metadata": {},
   "outputs": [],
   "source": []
  }
 ],
 "metadata": {
  "kernelspec": {
   "display_name": "Python 3 (ipykernel)",
   "language": "python",
   "name": "python3"
  },
  "language_info": {
   "codemirror_mode": {
    "name": "ipython",
    "version": 3
   },
   "file_extension": ".py",
   "mimetype": "text/x-python",
   "name": "python",
   "nbconvert_exporter": "python",
   "pygments_lexer": "ipython3",
   "version": "3.12.6"
  }
 },
 "nbformat": 4,
 "nbformat_minor": 5
}
