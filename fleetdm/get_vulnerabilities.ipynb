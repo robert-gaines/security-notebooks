{
 "cells": [
  {
   "cell_type": "code",
   "execution_count": null,
   "id": "1619e960-0ffa-4648-993f-e4ebfc489492",
   "metadata": {},
   "outputs": [],
   "source": [
    "from fleetdm_methods import FleetDMMethods\n",
    "import requests\n",
    "import logging\n",
    "import urllib3\n",
    "import sys\n",
    "import os\n",
    "sys.path.append(os.path.abspath('../vault'))\n",
    "from vault_methods import VaultMethods\n",
    "\n",
    "urllib3.disable_warnings(urllib3.exceptions.InsecureRequestWarning)\n",
    "\n",
    "logging.basicConfig(format='%(asctime)s %(message)s',\n",
    "                    datefmt='%m/%d/%Y %I:%M:%S %p',\n",
    "                    level=logging.INFO)\n",
    "\n",
    "if __name__ == '__main__':\n",
    "    vault_session = VaultMethods()\n",
    "    vault_session.authenticate()\n",
    "    fleetdm_token = vault_session.retrieve_fleetdm_secret()\n",
    "    logging.info(\"Retrieving token\")\n",
    "    if fleetdm_token:\n",
    "        fqdn = input(\"Enter the FleetDM FQDN-> \")\n",
    "        port = int(input(\"Enter the FleetDM API Port-> \"))\n",
    "        session = FleetDMMethods(fqdn, port, fleetdm_token)\n",
    "        session._list_vulnerabilities()"
   ]
  },
  {
   "cell_type": "code",
   "execution_count": null,
   "id": "48c6ecce-2b16-49cc-866e-8a80a28c9e32",
   "metadata": {},
   "outputs": [],
   "source": []
  }
 ],
 "metadata": {
  "kernelspec": {
   "display_name": "Python 3 (ipykernel)",
   "language": "python",
   "name": "python3"
  },
  "language_info": {
   "codemirror_mode": {
    "name": "ipython",
    "version": 3
   },
   "file_extension": ".py",
   "mimetype": "text/x-python",
   "name": "python",
   "nbconvert_exporter": "python",
   "pygments_lexer": "ipython3",
   "version": "3.12.6"
  }
 },
 "nbformat": 4,
 "nbformat_minor": 5
}
