{
 "cells": [
  {
   "cell_type": "code",
   "execution_count": null,
   "id": "3b7ab646-b2ec-454c-9a4f-22f43beac0ed",
   "metadata": {},
   "outputs": [],
   "source": [
    "from bgpview_methods import BGPViewMethods\n",
    "import logging\n",
    "\n",
    "logging.basicConfig(format='%(asctime)s %(message)s',\n",
    "                    datefmt='%m/%d/%Y %I:%M:%S %p',\n",
    "                    level=logging.INFO)\n",
    "\n",
    "logging.info(\"BGPView Address Query\")\n",
    "address = input(\"Enter the address-> \")\n",
    "session = BGPViewMethods(address)\n",
    "session._transmit_query()"
   ]
  },
  {
   "cell_type": "code",
   "execution_count": null,
   "id": "6bebbbc9-bf0f-49b7-94a4-ec21bac97369",
   "metadata": {},
   "outputs": [],
   "source": []
  }
 ],
 "metadata": {
  "kernelspec": {
   "display_name": "Python 3 (ipykernel)",
   "language": "python",
   "name": "python3"
  },
  "language_info": {
   "codemirror_mode": {
    "name": "ipython",
    "version": 3
   },
   "file_extension": ".py",
   "mimetype": "text/x-python",
   "name": "python",
   "nbconvert_exporter": "python",
   "pygments_lexer": "ipython3",
   "version": "3.12.6"
  }
 },
 "nbformat": 4,
 "nbformat_minor": 5
}
