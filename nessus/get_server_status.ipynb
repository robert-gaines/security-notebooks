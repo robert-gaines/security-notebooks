{
 "cells": [
  {
   "cell_type": "code",
   "execution_count": null,
   "id": "5129dd55-d1a6-48e1-bd04-6d35720ca438",
   "metadata": {},
   "outputs": [],
   "source": [
    "from nessus_methods import NessusMethods\n",
    "import requests\n",
    "import logging\n",
    "import urllib3\n",
    "import sys\n",
    "import os\n",
    "sys.path.append(os.path.abspath('../vault'))\n",
    "from vault_methods import VaultMethods\n",
    "\n",
    "urllib3.disable_warnings(urllib3.exceptions.InsecureRequestWarning)\n",
    "\n",
    "logging.basicConfig(format='%(asctime)s %(message)s',\n",
    "                    datefmt='%m/%d/%Y %I:%M:%S %p',\n",
    "                    level=logging.INFO)\n",
    "\n",
    "if __name__ == '__main__':\n",
    "    vault_session = VaultMethods()\n",
    "    vault_session.authenticate()\n",
    "    nessus_secrets = vault_session.retrieve_nessus_secrets()\n",
    "    logging.info(\"Retrieving token\")\n",
    "    if nessus_secrets:\n",
    "        fqdn = input(\"Enter the Nessus IP or FQDN-> \")\n",
    "        session = NessusMethods(fqdn, nessus_secrets[0], nessus_secrets[1])\n",
    "        session.get_server_status()\n"
   ]
  },
  {
   "cell_type": "code",
   "execution_count": null,
   "id": "aafd2bc4-3ee0-47ce-a1ae-6009c4c5e452",
   "metadata": {},
   "outputs": [],
   "source": []
  }
 ],
 "metadata": {
  "kernelspec": {
   "display_name": "Python 3 (ipykernel)",
   "language": "python",
   "name": "python3"
  },
  "language_info": {
   "codemirror_mode": {
    "name": "ipython",
    "version": 3
   },
   "file_extension": ".py",
   "mimetype": "text/x-python",
   "name": "python",
   "nbconvert_exporter": "python",
   "pygments_lexer": "ipython3",
   "version": "3.12.6"
  }
 },
 "nbformat": 4,
 "nbformat_minor": 5
}
