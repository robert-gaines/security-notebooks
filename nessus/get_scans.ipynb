{
 "cells": [
  {
   "cell_type": "code",
   "execution_count": 1,
   "id": "60825241-c10b-43f2-85b8-dae3bc2bd74c",
   "metadata": {},
   "outputs": [
    {
     "name": "stdin",
     "output_type": "stream",
     "text": [
      "Enter the Vault FQDN->  vault.internal.subterfuge.biz\n",
      "Enter the Vault username->  robert.gaines\n",
      "Enter the Vault password->  ········\n"
     ]
    },
    {
     "name": "stderr",
     "output_type": "stream",
     "text": [
      "07/23/2025 01:07:36 AM Retrieving token\n"
     ]
    },
    {
     "name": "stdin",
     "output_type": "stream",
     "text": [
      "Enter the Nessus IP or FQDN->  10.128.10.16\n"
     ]
    },
    {
     "name": "stderr",
     "output_type": "stream",
     "text": [
      "07/23/2025 01:07:41 AM scan_type :vuln\n",
      "07/23/2025 01:07:41 AM isWas :None\n",
      "07/23/2025 01:07:41 AM folder_id :4\n",
      "07/23/2025 01:07:41 AM type :local\n",
      "07/23/2025 01:07:41 AM read :True\n",
      "07/23/2025 01:07:41 AM last_modification_date :1753218797\n",
      "07/23/2025 01:07:41 AM creation_date :1753217619\n",
      "07/23/2025 01:07:41 AM status :completed\n",
      "07/23/2025 01:07:41 AM uuid :63de3031-3214-1471-bc8a-c991a90aa07937e7f96e5096fc0a\n",
      "07/23/2025 01:07:41 AM shared :False\n",
      "07/23/2025 01:07:41 AM user_permissions :128\n",
      "07/23/2025 01:07:41 AM owner :robert.gaines\n",
      "07/23/2025 01:07:41 AM timezone :None\n",
      "07/23/2025 01:07:41 AM rrules :None\n",
      "07/23/2025 01:07:41 AM starttime :None\n",
      "07/23/2025 01:07:41 AM enabled :False\n",
      "07/23/2025 01:07:41 AM control :True\n",
      "07/23/2025 01:07:41 AM live_results :None\n",
      "07/23/2025 01:07:41 AM agent_scan_launch_type :None\n",
      "07/23/2025 01:07:41 AM name :windows-system-scan\n",
      "07/23/2025 01:07:41 AM id :26\n",
      "07/23/2025 01:07:41 AM scan_type :vuln\n",
      "07/23/2025 01:07:41 AM isWas :None\n",
      "07/23/2025 01:07:41 AM folder_id :4\n",
      "07/23/2025 01:07:41 AM type :local\n",
      "07/23/2025 01:07:41 AM read :True\n",
      "07/23/2025 01:07:41 AM last_modification_date :1753157256\n",
      "07/23/2025 01:07:41 AM creation_date :1753155596\n",
      "07/23/2025 01:07:41 AM status :completed\n",
      "07/23/2025 01:07:41 AM uuid :9252838c-1948-dee8-5a59-61d7b2cbb2adc1e9167cdaf4b414\n",
      "07/23/2025 01:07:41 AM shared :False\n",
      "07/23/2025 01:07:41 AM user_permissions :128\n",
      "07/23/2025 01:07:41 AM owner :robert.gaines\n",
      "07/23/2025 01:07:41 AM timezone :None\n",
      "07/23/2025 01:07:41 AM rrules :None\n",
      "07/23/2025 01:07:41 AM starttime :None\n",
      "07/23/2025 01:07:41 AM enabled :False\n",
      "07/23/2025 01:07:41 AM control :True\n",
      "07/23/2025 01:07:41 AM live_results :None\n",
      "07/23/2025 01:07:41 AM agent_scan_launch_type :None\n",
      "07/23/2025 01:07:41 AM name :linux-system-scan\n",
      "07/23/2025 01:07:41 AM id :6\n"
     ]
    }
   ],
   "source": [
    "from nessus_methods import NessusMethods\n",
    "import requests\n",
    "import logging\n",
    "import urllib3\n",
    "import sys\n",
    "import os\n",
    "sys.path.append(os.path.abspath('../vault'))\n",
    "from vault_methods import VaultMethods\n",
    "\n",
    "urllib3.disable_warnings(urllib3.exceptions.InsecureRequestWarning)\n",
    "\n",
    "logging.basicConfig(format='%(asctime)s %(message)s',\n",
    "                    datefmt='%m/%d/%Y %I:%M:%S %p',\n",
    "                    level=logging.INFO)\n",
    "\n",
    "if __name__ == '__main__':\n",
    "    vault_session = VaultMethods()\n",
    "    vault_session.authenticate()\n",
    "    nessus_secrets = vault_session.retrieve_nessus_secrets()\n",
    "    logging.info(\"Retrieving token\")\n",
    "    if nessus_secrets:\n",
    "        fqdn = input(\"Enter the Nessus IP or FQDN-> \")\n",
    "        session = NessusMethods(fqdn, nessus_secrets[0], nessus_secrets[1])\n",
    "        session.get_scans()\n"
   ]
  },
  {
   "cell_type": "code",
   "execution_count": null,
   "id": "e35c09bb-6e9c-4651-b64c-6f3a7a2e4621",
   "metadata": {},
   "outputs": [],
   "source": []
  }
 ],
 "metadata": {
  "kernelspec": {
   "display_name": "Python 3 (ipykernel)",
   "language": "python",
   "name": "python3"
  },
  "language_info": {
   "codemirror_mode": {
    "name": "ipython",
    "version": 3
   },
   "file_extension": ".py",
   "mimetype": "text/x-python",
   "name": "python",
   "nbconvert_exporter": "python",
   "pygments_lexer": "ipython3",
   "version": "3.12.6"
  }
 },
 "nbformat": 4,
 "nbformat_minor": 5
}
